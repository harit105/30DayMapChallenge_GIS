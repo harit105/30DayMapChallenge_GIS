{
 "cells": [
  {
   "cell_type": "code",
   "execution_count": 1,
   "metadata": {},
   "outputs": [
    {
     "name": "stdout",
     "output_type": "stream",
     "text": [
      "Requirement already satisfied: rasterio in /Library/Frameworks/Python.framework/Versions/3.11/lib/python3.11/site-packages (1.4.0)\n",
      "Requirement already satisfied: affine in /Library/Frameworks/Python.framework/Versions/3.11/lib/python3.11/site-packages (from rasterio) (2.4.0)\n",
      "Requirement already satisfied: attrs in /Library/Frameworks/Python.framework/Versions/3.11/lib/python3.11/site-packages (from rasterio) (23.1.0)\n",
      "Requirement already satisfied: certifi in /Library/Frameworks/Python.framework/Versions/3.11/lib/python3.11/site-packages (from rasterio) (2023.7.22)\n",
      "Requirement already satisfied: click>=4.0 in /Library/Frameworks/Python.framework/Versions/3.11/lib/python3.11/site-packages (from rasterio) (8.1.7)\n",
      "Requirement already satisfied: cligj>=0.5 in /Library/Frameworks/Python.framework/Versions/3.11/lib/python3.11/site-packages (from rasterio) (0.7.2)\n",
      "Requirement already satisfied: numpy>=1.24 in /Library/Frameworks/Python.framework/Versions/3.11/lib/python3.11/site-packages (from rasterio) (2.1.3)\n",
      "Requirement already satisfied: click-plugins in /Library/Frameworks/Python.framework/Versions/3.11/lib/python3.11/site-packages (from rasterio) (1.1.1)\n",
      "Requirement already satisfied: pyparsing in /Library/Frameworks/Python.framework/Versions/3.11/lib/python3.11/site-packages (from rasterio) (3.1.4)\n",
      "Note: you may need to restart the kernel to use updated packages.\n"
     ]
    }
   ],
   "source": [
    "%pip install rasterio \n",
    "\n"
   ]
  },
  {
   "cell_type": "code",
   "execution_count": 2,
   "metadata": {},
   "outputs": [
    {
     "name": "stdout",
     "output_type": "stream",
     "text": [
      "Requirement already satisfied: flask in /Library/Frameworks/Python.framework/Versions/3.11/lib/python3.11/site-packages (3.0.3)\n",
      "Requirement already satisfied: Werkzeug>=3.0.0 in /Library/Frameworks/Python.framework/Versions/3.11/lib/python3.11/site-packages (from flask) (3.0.4)\n",
      "Requirement already satisfied: Jinja2>=3.1.2 in /Library/Frameworks/Python.framework/Versions/3.11/lib/python3.11/site-packages (from flask) (3.1.2)\n",
      "Requirement already satisfied: itsdangerous>=2.1.2 in /Library/Frameworks/Python.framework/Versions/3.11/lib/python3.11/site-packages (from flask) (2.2.0)\n",
      "Requirement already satisfied: click>=8.1.3 in /Library/Frameworks/Python.framework/Versions/3.11/lib/python3.11/site-packages (from flask) (8.1.7)\n",
      "Requirement already satisfied: blinker>=1.6.2 in /Library/Frameworks/Python.framework/Versions/3.11/lib/python3.11/site-packages (from flask) (1.9.0)\n",
      "Requirement already satisfied: MarkupSafe>=2.0 in /Library/Frameworks/Python.framework/Versions/3.11/lib/python3.11/site-packages (from Jinja2>=3.1.2->flask) (2.1.3)\n",
      "Note: you may need to restart the kernel to use updated packages.\n"
     ]
    }
   ],
   "source": [
    "%pip install flask \n"
   ]
  },
  {
   "cell_type": "code",
   "execution_count": 3,
   "metadata": {},
   "outputs": [
    {
     "name": "stdout",
     "output_type": "stream",
     "text": [
      "Requirement already satisfied: pyngrok in /Library/Frameworks/Python.framework/Versions/3.11/lib/python3.11/site-packages (7.2.1)\n",
      "Requirement already satisfied: PyYAML>=5.1 in /Library/Frameworks/Python.framework/Versions/3.11/lib/python3.11/site-packages (from pyngrok) (6.0.1)\n",
      "Note: you may need to restart the kernel to use updated packages.\n"
     ]
    }
   ],
   "source": [
    "%pip install pyngrok \n"
   ]
  },
  {
   "cell_type": "code",
   "execution_count": 4,
   "metadata": {},
   "outputs": [
    {
     "name": "stdout",
     "output_type": "stream",
     "text": [
      "Requirement already satisfied: numpy in /Library/Frameworks/Python.framework/Versions/3.11/lib/python3.11/site-packages (2.1.3)\n",
      "Note: you may need to restart the kernel to use updated packages.\n"
     ]
    }
   ],
   "source": [
    "%pip install numpy "
   ]
  },
  {
   "cell_type": "code",
   "execution_count": 5,
   "metadata": {},
   "outputs": [],
   "source": [
    "import rasterio\n",
    "from flask import Flask, send_from_directory, render_template\n",
    "import threading\n",
    "import os\n"
   ]
  },
  {
   "cell_type": "code",
   "execution_count": 6,
   "metadata": {},
   "outputs": [
    {
     "name": "stdout",
     "output_type": "stream",
     "text": [
      "Number of Bands: 3\n",
      "CRS: EPSG:26918\n",
      "Bounds: BoundingBox(left=222952.84713583408, bottom=4182614.9920050376, right=260781.5462814341, top=4220180.493370371)\n",
      "Data Type: uint8\n",
      "Band 1 Min/Max: 0/255\n",
      "Band 2 Min/Max: 0/255\n",
      "Band 3 Min/Max: 0/255\n"
     ]
    }
   ],
   "source": [
    "# Path to the GeoTIFF file\n",
    "filepath = \"/Users/haritshah/Downloads/Mag Anom UTM18N NAD83.tif\"  # Replace with your GeoTIFF file\n",
    "\n",
    "# Inspect the GeoTIFF file\n",
    "with rasterio.open(filepath) as src:\n",
    "    print(f\"Number of Bands: {src.count}\")\n",
    "    print(f\"CRS: {src.crs}\")\n",
    "    print(f\"Bounds: {src.bounds}\")\n",
    "    print(f\"Data Type: {src.dtypes[0]}\")\n",
    "\n",
    "    # Print band statistics\n",
    "    for i in range(1, src.count + 1):\n",
    "        print(f\"Band {i} Min/Max: {src.read(i).min()}/{src.read(i).max()}\")\n"
   ]
  },
  {
   "cell_type": "code",
   "execution_count": 7,
   "metadata": {},
   "outputs": [
    {
     "name": "stdout",
     "output_type": "stream",
     "text": [
      "Requirement already satisfied: gdal in /Library/Frameworks/Python.framework/Versions/3.11/lib/python3.11/site-packages (3.10.0)\n",
      "Note: you may need to restart the kernel to use updated packages.\n",
      "Reprojected GeoTIFF saved to /Users/haritshah/Desktop/FAA_UTM18N_NAD83_WGS84.tif\n"
     ]
    },
    {
     "name": "stderr",
     "output_type": "stream",
     "text": [
      "/Library/Frameworks/Python.framework/Versions/3.11/lib/python3.11/site-packages/osgeo/gdal.py:311: FutureWarning: Neither gdal.UseExceptions() nor gdal.DontUseExceptions() has been explicitly called. In GDAL 4.0, exceptions will be enabled by default.\n",
      "  warnings.warn(\n"
     ]
    }
   ],
   "source": [
    "%pip install gdal\n",
    "\n",
    "from osgeo import gdal\n",
    "\n",
    "# Reproject the GeoTIFF to WGS84 (EPSG:4326) using GDAL\n",
    "input_file = filepath\n",
    "output_file = os.path.join(os.path.expanduser(\"~/Desktop\"), \"FAA_UTM18N_NAD83_WGS84.tif\")\n",
    "\n",
    "gdal.Warp(\n",
    "    output_file,\n",
    "    input_file,\n",
    "    dstSRS=\"EPSG:4326\"\n",
    ")\n",
    "print(f\"Reprojected GeoTIFF saved to {output_file}\")\n"
   ]
  },
  {
   "cell_type": "code",
   "execution_count": 8,
   "metadata": {},
   "outputs": [],
   "source": [
    "import tempfile\n",
    "\n",
    "# Define directories for Flask server\n",
    "BASE_DIR = tempfile.gettempdir()\n",
    "STATIC_DIR = os.path.join(BASE_DIR, \"static\")\n",
    "TEMPLATES_DIR = os.path.join(BASE_DIR, \"templates\")\n",
    "\n",
    "# Create directories if they don't exist\n",
    "os.makedirs(STATIC_DIR, exist_ok=True)\n",
    "os.makedirs(TEMPLATES_DIR, exist_ok=True)\n",
    "\n",
    "# Move GeoTIFF to static folder\n",
    "os.rename(output_file, os.path.join(STATIC_DIR, os.path.basename(output_file)))\n",
    "\n",
    "# Flask App\n",
    "app = Flask(__name__, static_folder=STATIC_DIR, template_folder=TEMPLATES_DIR)\n",
    "\n",
    "# Serve the map HTML\n",
    "@app.route(\"/\")\n",
    "def index():\n",
    "    return render_template(\"index.html\")\n",
    "\n",
    "# Serve GeoTIFF files\n",
    "@app.route(\"/geotiff/<path:filename>\")\n",
    "def geotiff(filename):\n",
    "    return send_from_directory(STATIC_DIR, filename)\n",
    "\n",
    "# Function to run Flask server\n",
    "def run_flask():\n",
    "    app.run(port=5000)\n"
   ]
  },
  {
   "cell_type": "code",
   "execution_count": 9,
   "metadata": {},
   "outputs": [],
   "source": [
    "html_content = \"\"\"\n",
    "<!DOCTYPE html>\n",
    "<html>\n",
    "<head>\n",
    "    <title>GeoTIFF in Leaflet</title>\n",
    "    <meta charset=\"utf-8\" />\n",
    "    <meta name=\"viewport\" content=\"width=device-width, initial-scale=1.0\">\n",
    "    <link rel=\"stylesheet\" href=\"https://unpkg.com/leaflet/dist/leaflet.css\" />\n",
    "    <link rel=\"stylesheet\" href=\"https://unpkg.com/leaflet-control-scale\" />\n",
    "    <link rel=\"stylesheet\" href=\"https://unpkg.com/leaflet-minimap/dist/Control.MiniMap.min.css\" />\n",
    "    <script src=\"https://unpkg.com/leaflet\"></script>\n",
    "    <script src=\"https://unpkg.com/georaster\"></script>\n",
    "    <script src=\"https://unpkg.com/georaster-layer-for-leaflet\"></script>\n",
    "    <script src=\"https://unpkg.com/leaflet-control-scale\"></script>\n",
    "    <script src=\"https://unpkg.com/leaflet-minimap\"></script>\n",
    "    <style>\n",
    "        .legend {\n",
    "            line-height: 1.5em;\n",
    "            padding: 6px 8px;\n",
    "            font: 14px/16px Arial, Helvetica, sans-serif;\n",
    "            box-shadow: 0 0 15px rgba(0, 0, 0, 0.2);\n",
    "            border-radius: 5px;\n",
    "            background: white;\n",
    "        }\n",
    "        .legend i {\n",
    "            width: 18px;\n",
    "            height: 18px;\n",
    "            float: left;\n",
    "            margin-right: 8px;\n",
    "        }\n",
    "        .legend .blue { background: blue; }\n",
    "        .legend .green { background: green; }\n",
    "        .legend .yellow { background: yellow; }\n",
    "        .legend .orange { background: orange; }\n",
    "        .legend .red-magenta { background: linear-gradient(to right, red, magenta); }\n",
    "    </style>\n",
    "</head>\n",
    "<body>\n",
    "    <div id=\"map\" style=\"width: 100%; height: 600px;\"></div>\n",
    "    <script>\n",
    "        const map = L.map('map').setView([38.0, -77.0], 8);\n",
    "\n",
    "        // Add base map\n",
    "        const baseLayer = L.tileLayer('https://{s}.tile.openstreetmap.org/{z}/{x}/{y}.png', {\n",
    "            maxZoom: 19,\n",
    "            attribution: '© OpenStreetMap contributors'\n",
    "        }).addTo(map);\n",
    "\n",
    "        // Add scale bar\n",
    "        L.control.scale().addTo(map);\n",
    "\n",
    "        // Load GeoTIFF\n",
    "        fetch('/geotiff/FAA_UTM18N_NAD83_WGS84.tif')  // Use the reprojected file\n",
    "            .then(response => response.arrayBuffer())\n",
    "            .then(arrayBuffer => {\n",
    "                parseGeoraster(arrayBuffer).then(georaster => {\n",
    "                    const layer = new GeoRasterLayer({\n",
    "                        georaster: georaster,\n",
    "                        opacity: 0.8,\n",
    "                        resolution: 128  // Adjust the resolution to make pixels smaller\n",
    "                    });\n",
    "                    layer.addTo(map);\n",
    "                    map.fitBounds(layer.getBounds());\n",
    "\n",
    "                    // Add layer control\n",
    "                    const baseMaps = {\n",
    "                        \"OpenStreetMap\": baseLayer\n",
    "                    };\n",
    "                    const overlayMaps = {\n",
    "                        \"GeoTIFF Layer\": layer\n",
    "                    };\n",
    "                    L.control.layers(baseMaps, overlayMaps).addTo(map);\n",
    "                });\n",
    "            });\n",
    "\n",
    "        // Add legend\n",
    "        const legend = L.control({ position: 'bottomright' });\n",
    "        legend.onAdd = function (map) {\n",
    "            const div = L.DomUtil.create('div', 'legend');\n",
    "            div.innerHTML += '<b>Legend</b><br>';\n",
    "            div.innerHTML += '<i class=\"blue\"></i> 46 nT (Blue)<br>';\n",
    "            div.innerHTML += '<i class=\"green\"></i> 98-122 nT (Green)<br>';\n",
    "            div.innerHTML += '<i class=\"yellow\"></i> 154 nT (Yellow)<br>';\n",
    "            div.innerHTML += '<i class=\"orange\"></i> 194 nT (Orange)<br>';\n",
    "            div.innerHTML += '<i class=\"red-magenta\"></i> 267 nT (Red to Magenta)<br>';\n",
    "            div.innerHTML += '<small>nT: nanoTesla</small>';\n",
    "            return div;\n",
    "        };\n",
    "        legend.addTo(map);\n",
    "\n",
    "        // Add popup on click\n",
    "        map.on('click', function (e) {\n",
    "            L.popup()\n",
    "                .setLatLng(e.latlng)\n",
    "                .setContent(\"You clicked the map at \" + e.latlng.toString())\n",
    "                .openOn(map);\n",
    "        });\n",
    "\n",
    "        // Add mini map\n",
    "        const miniMapLayer = L.tileLayer('https://{s}.tile.openstreetmap.org/{z}/{x}/{y}.png', {\n",
    "            maxZoom: 19,\n",
    "            attribution: '© OpenStreetMap contributors'\n",
    "        });\n",
    "        const miniMap = new L.Control.MiniMap(miniMapLayer, {\n",
    "            toggleDisplay: true,\n",
    "            minimized: false\n",
    "        }).addTo(map);\n",
    "    </script>\n",
    "</body>\n",
    "</html>\n",
    "\"\"\"\n",
    "\n",
    "with open(os.path.join(TEMPLATES_DIR, \"index.html\"), \"w\") as f:\n",
    "    f.write(html_content)\n"
   ]
  },
  {
   "cell_type": "code",
   "execution_count": 10,
   "metadata": {},
   "outputs": [
    {
     "name": "stdout",
     "output_type": "stream",
     "text": [
      "Flask server is running! Open http://127.0.0.1:5000 in your browser.\n"
     ]
    },
    {
     "name": "stdout",
     "output_type": "stream",
     "text": [
      " * Serving Flask app '__main__'\n",
      " * Debug mode: off\n"
     ]
    },
    {
     "name": "stderr",
     "output_type": "stream",
     "text": [
      "\u001b[31m\u001b[1mWARNING: This is a development server. Do not use it in a production deployment. Use a production WSGI server instead.\u001b[0m\n",
      " * Running on http://127.0.0.1:5000\n",
      "\u001b[33mPress CTRL+C to quit\u001b[0m\n",
      "127.0.0.1 - - [13/Nov/2024 00:28:20] \"GET / HTTP/1.1\" 200 -\n",
      "127.0.0.1 - - [13/Nov/2024 00:28:21] \"GET /geotiff/FAA_UTM18N_NAD83_WGS84.tif HTTP/1.1\" 200 -\n"
     ]
    }
   ],
   "source": [
    "app = Flask(__name__, static_folder=STATIC_DIR, template_folder=TEMPLATES_DIR)\n",
    "\n",
    "@app.route(\"/\")\n",
    "def index():\n",
    "    return render_template(\"index.html\")\n",
    "\n",
    "@app.route(\"/geotiff/<path:filename>\")\n",
    "def geotiff(filename):\n",
    "    return send_from_directory(STATIC_DIR, filename)\n",
    "\n",
    "# Start Flask server in a background thread\n",
    "def run_flask():\n",
    "    app.run(port=5000)\n",
    "\n",
    "thread = threading.Thread(target=run_flask)\n",
    "thread.start()\n",
    "\n",
    "print(\"Flask server is running! Open http://127.0.0.1:5000 in your browser.\")\n"
   ]
  },
  {
   "cell_type": "code",
   "execution_count": null,
   "metadata": {},
   "outputs": [],
   "source": []
  }
 ],
 "metadata": {
  "kernelspec": {
   "display_name": "Python 3",
   "language": "python",
   "name": "python3"
  },
  "language_info": {
   "codemirror_mode": {
    "name": "ipython",
    "version": 3
   },
   "file_extension": ".py",
   "mimetype": "text/x-python",
   "name": "python",
   "nbconvert_exporter": "python",
   "pygments_lexer": "ipython3",
   "version": "3.11.4"
  }
 },
 "nbformat": 4,
 "nbformat_minor": 2
}
