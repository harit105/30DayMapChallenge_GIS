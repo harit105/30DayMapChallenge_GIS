{
 "cells": [
  {
   "cell_type": "code",
   "execution_count": 1,
   "metadata": {},
   "outputs": [],
   "source": [
    "import numpy as np\n",
    "import rasterio\n",
    "from rasterio.features import shapes\n",
    "from scipy.ndimage import gaussian_gradient_magnitude\n",
    "import matplotlib.pyplot as plt"
   ]
  },
  {
   "cell_type": "code",
   "execution_count": 2,
   "metadata": {},
   "outputs": [],
   "source": [
    "# Step 1: Load and Preprocess Magnetic Anomaly Data\n",
    "def load_magnetic_data(file_path):\n",
    "    \"\"\"\n",
    "    Load the magnetic anomaly data from a GeoTIFF file.\n",
    "    Returns the dataset and the first data band.\n",
    "    \"\"\"\n",
    "    # Open the GeoTIFF file\n",
    "    dataset = rasterio.open(file_path)\n",
    "    data = dataset.read(1)  # Read the first band\n",
    "    return dataset, data\n",
    "\n",
    "# Load the data from the specified path\n",
    "file_path = '/Users/haritshah/Downloads/Mag Anom UTM18N NAD83.tif'\n",
    "dataset, magnetic_data = load_magnetic_data(file_path)"
   ]
  },
  {
   "cell_type": "code",
   "execution_count": 3,
   "metadata": {},
   "outputs": [],
   "source": [
    "# Step 2: Compute Magnetic Gradient\n",
    "def compute_magnetic_gradient(data, sigma=1):\n",
    "    \"\"\"\n",
    "    Compute the gradient magnitude of the magnetic anomaly data.\n",
    "    \"\"\"\n",
    "    gradient = gaussian_gradient_magnitude(data, sigma=sigma)\n",
    "    return gradient"
   ]
  },
  {
   "cell_type": "code",
   "execution_count": 6,
   "metadata": {},
   "outputs": [],
   "source": [
    "# Step 3: Visualize Gradient (Fault Zone Potential) as Raster\n",
    "def visualize_gradient_as_raster(gradient_data, dataset):\n",
    "    \"\"\"\n",
    "    Visualize the gradient data (potential fault zones) as a raster overlay.\n",
    "    \"\"\"\n",
    "    plt.figure(figsize=(12, 10))\n",
    "    plt.imshow(\n",
    "        gradient_data,\n",
    "        cmap=\"hot\",\n",
    "        extent=(\n",
    "            dataset.bounds.left,\n",
    "            dataset.bounds.right,\n",
    "            dataset.bounds.bottom,\n",
    "            dataset.bounds.top,\n",
    "        ),\n",
    "    )\n",
    "    plt.colorbar(label=\"Gradient Magnitude (Fault Zone Potential)\")\n",
    "    plt.title(\"Potential Fault Zones (Raster Overlay)\")\n",
    "    plt.xlabel(\"Easting (m)\")\n",
    "    plt.ylabel(\"Northing (m)\")\n",
    "    plt.grid(visible=True, color=\"gray\", alpha=0.5)\n",
    "    plt.show()"
   ]
  },
  {
   "cell_type": "code",
   "execution_count": 13,
   "metadata": {},
   "outputs": [
    {
     "name": "stdout",
     "output_type": "stream",
     "text": [
      "Gradient map saved as: /Users/haritshah/Desktop/Magnetic_Gradient_RGB.tif\n"
     ]
    }
   ],
   "source": [
    "# Step 4: Export Results as GeoTIFF with 3 Bands (RGB)\n",
    "def save_gradient_as_rgb_geotiff(gradient_data, reference_dataset, output_path, brightness_factor=1.5):\n",
    "    \"\"\"\n",
    "    Save gradient data as a GeoTIFF file with 3 bands (RGB) using the metadata from the reference dataset.\n",
    "    Adjust the brightness of the image using the brightness_factor.\n",
    "    \"\"\"\n",
    "    # Normalize the gradient data to the range [0, 1]\n",
    "    normalized_gradient = (gradient_data - np.min(gradient_data)) / np.ptp(gradient_data)\n",
    "    normalized_gradient = np.clip(normalized_gradient * brightness_factor, 0, 1)  # Apply brightness factor and clip\n",
    "\n",
    "    # Apply a custom colormap to emphasize red tones\n",
    "    colormap = plt.get_cmap('Reds')\n",
    "    rgb_image = colormap(normalized_gradient)[:, :, :3]  # Get RGB channels\n",
    "\n",
    "    # Convert RGB image to uint8\n",
    "    rgb_image = (rgb_image * 255).astype(np.uint8)\n",
    "\n",
    "    # Get metadata from the reference dataset\n",
    "    meta = reference_dataset.meta.copy()\n",
    "    meta.update({\n",
    "        'dtype': 'uint8',\n",
    "        'count': 3,  # 3 bands for RGB\n",
    "        'compress': 'lzw'\n",
    "    })\n",
    "\n",
    "    # Write the RGB image to a new GeoTIFF\n",
    "    with rasterio.open(output_path, 'w', **meta) as dest:\n",
    "        for i in range(3):\n",
    "            dest.write(rgb_image[:, :, i], i + 1)\n",
    "\n",
    "# Save gradient as GeoTIFF with 3 bands (RGB) with increased brightness\n",
    "save_gradient_as_rgb_geotiff(magnetic_gradient, dataset, output_gradient_path, brightness_factor=1.5)\n",
    "\n",
    "print(f\"Gradient map saved as: {output_gradient_path}\")\n"
   ]
  }
 ],
 "metadata": {
  "kernelspec": {
   "display_name": "Python 3",
   "language": "python",
   "name": "python3"
  },
  "language_info": {
   "codemirror_mode": {
    "name": "ipython",
    "version": 3
   },
   "file_extension": ".py",
   "mimetype": "text/x-python",
   "name": "python",
   "nbconvert_exporter": "python",
   "pygments_lexer": "ipython3",
   "version": "3.11.4"
  }
 },
 "nbformat": 4,
 "nbformat_minor": 2
}
