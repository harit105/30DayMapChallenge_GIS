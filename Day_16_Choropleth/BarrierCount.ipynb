{
 "cells": [
  {
   "cell_type": "code",
   "execution_count": 2,
   "metadata": {},
   "outputs": [
    {
     "name": "stdout",
     "output_type": "stream",
     "text": [
      "\n",
      "\u001b[1m[\u001b[0m\u001b[34;49mnotice\u001b[0m\u001b[1;39;49m]\u001b[0m\u001b[39;49m A new release of pip is available: \u001b[0m\u001b[31;49m24.2\u001b[0m\u001b[39;49m -> \u001b[0m\u001b[32;49m24.3.1\u001b[0m\n",
      "\u001b[1m[\u001b[0m\u001b[34;49mnotice\u001b[0m\u001b[1;39;49m]\u001b[0m\u001b[39;49m To update, run: \u001b[0m\u001b[32;49mpip install --upgrade pip\u001b[0m\n"
     ]
    }
   ],
   "source": [
    "!pip install pandas numpy folium -q"
   ]
  },
  {
   "cell_type": "code",
   "execution_count": null,
   "metadata": {},
   "outputs": [],
   "source": [
    "import pandas as pd\n",
    "import numpy as np\n",
    "\n",
    "# Load data\n",
    "patents_data = pd.read_csv('users/haritshah/Desktop/ImpTask/combineddd_patents.csv')\n",
    "prevalence_data = pd.read_csv('users/haritshah/Desktop/ImpTask/Crude_Prevelance.csv')\n"
   ]
  },
  {
   "cell_type": "code",
   "execution_count": null,
   "metadata": {},
   "outputs": [
    {
     "name": "stdout",
     "output_type": "stream",
     "text": [
      "   State  Patent_Count\n",
      "0     81             1\n",
      "1     95             2\n",
      "2     AE             1\n",
      "3     AK            42\n",
      "4     AL          1498\n",
      "5     AR           550\n",
      "6     AZ         19936\n",
      "7     CA        215583\n",
      "8     CO         27239\n",
      "9     CT         40284\n",
      "10    DC        119110\n",
      "11    DE          3517\n",
      "12    FL         31851\n",
      "13    GA         56443\n",
      "14    GU             1\n",
      "15    HI           410\n",
      "16    IA          3080\n",
      "17    ID          2262\n",
      "18    IL         78507\n",
      "19    IN         14650\n",
      "20    KS          5200\n",
      "21    KY          2958\n",
      "22    LA          1941\n",
      "23    MA         68312\n",
      "24    MD         21949\n",
      "25    ME           259\n",
      "26    MI         60216\n",
      "27    MN         50857\n",
      "28    MO         19580\n",
      "29    MS            99\n",
      "30    MT           528\n",
      "31    NC         37168\n",
      "32    ND           692\n",
      "33    NE          2748\n",
      "34    NH          5235\n",
      "35    NJ         47224\n",
      "36    NM           818\n",
      "37    NV          6241\n",
      "38    NY         85525\n",
      "39    OH         48754\n",
      "40    OK          2326\n",
      "41    ON             2\n",
      "42    OR         23025\n",
      "43    PA         47156\n",
      "44    RI          1125\n",
      "45    SC          5251\n",
      "46    SD          2688\n",
      "47    TN          5718\n",
      "48    TX        119546\n",
      "49    UM             1\n",
      "50    US             2\n",
      "51    UT         38932\n",
      "52    VA        195970\n",
      "53    VT           585\n",
      "54    WA         40367\n",
      "55    WI         23518\n",
      "56    WV           156\n",
      "57    WY           276\n",
      "58    ca             2\n"
     ]
    }
   ],
   "source": [
    "# Aggregate patent counts by state\n",
    "patents_per_state = patents_data.groupby('State').size().reset_index(name='Patent_Count')\n",
    "print(patents_per_state)\n",
    "\n"
   ]
  },
  {
   "cell_type": "code",
   "execution_count": null,
   "metadata": {},
   "outputs": [],
   "source": []
  }
 ],
 "metadata": {
  "kernelspec": {
   "display_name": "Python 3",
   "language": "python",
   "name": "python3"
  },
  "language_info": {
   "codemirror_mode": {
    "name": "ipython",
    "version": 3
   },
   "file_extension": ".py",
   "mimetype": "text/x-python",
   "name": "python",
   "nbconvert_exporter": "python",
   "pygments_lexer": "ipython3",
   "version": "3.11.4"
  }
 },
 "nbformat": 4,
 "nbformat_minor": 2
}
