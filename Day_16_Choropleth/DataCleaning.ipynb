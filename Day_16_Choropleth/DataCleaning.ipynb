{
 "cells": [
  {
   "cell_type": "code",
   "execution_count": 273,
   "metadata": {},
   "outputs": [],
   "source": [
    "import pandas as pd\n",
    "import numpy as np\n"
   ]
  },
  {
   "cell_type": "code",
   "execution_count": 274,
   "metadata": {},
   "outputs": [],
   "source": [
    "# Load the Excel file, but only load the specific sheet '2019_Patient_data'\n",
    "file_path = '/Users/haritshah/Desktop/2024_PatentCrudePrevelance_11022024.xlsx'\n",
    "sheet_name = '2022_Patient_Data'\n"
   ]
  },
  {
   "cell_type": "code",
   "execution_count": 275,
   "metadata": {},
   "outputs": [
    {
     "data": {
      "text/html": [
       "<div>\n",
       "<style scoped>\n",
       "    .dataframe tbody tr th:only-of-type {\n",
       "        vertical-align: middle;\n",
       "    }\n",
       "\n",
       "    .dataframe tbody tr th {\n",
       "        vertical-align: top;\n",
       "    }\n",
       "\n",
       "    .dataframe thead th {\n",
       "        text-align: right;\n",
       "    }\n",
       "</style>\n",
       "<table border=\"1\" class=\"dataframe\">\n",
       "  <thead>\n",
       "    <tr style=\"text-align: right;\">\n",
       "      <th></th>\n",
       "      <th>Year</th>\n",
       "      <th>Id</th>\n",
       "      <th>Code</th>\n",
       "      <th>Date</th>\n",
       "      <th>Type</th>\n",
       "      <th>Type2</th>\n",
       "      <th>City</th>\n",
       "      <th>State</th>\n",
       "      <th>Country</th>\n",
       "      <th>Zip Code</th>\n",
       "    </tr>\n",
       "  </thead>\n",
       "  <tbody>\n",
       "    <tr>\n",
       "      <th>0</th>\n",
       "      <td>2022</td>\n",
       "      <td>1</td>\n",
       "      <td>17567110</td>\n",
       "      <td>44562</td>\n",
       "      <td>Utility</td>\n",
       "      <td>SMALL</td>\n",
       "      <td>Spanish Fork</td>\n",
       "      <td>UT</td>\n",
       "      <td>US</td>\n",
       "      <td>84660</td>\n",
       "    </tr>\n",
       "    <tr>\n",
       "      <th>1</th>\n",
       "      <td>2022</td>\n",
       "      <td>2</td>\n",
       "      <td>17567111</td>\n",
       "      <td>44562</td>\n",
       "      <td>Utility</td>\n",
       "      <td>MICRO</td>\n",
       "      <td>Beer Yaakov</td>\n",
       "      <td>NaN</td>\n",
       "      <td>IS</td>\n",
       "      <td>7031442</td>\n",
       "    </tr>\n",
       "    <tr>\n",
       "      <th>2</th>\n",
       "      <td>2022</td>\n",
       "      <td>3</td>\n",
       "      <td>17567114</td>\n",
       "      <td>44562</td>\n",
       "      <td>Utility</td>\n",
       "      <td>SMALL</td>\n",
       "      <td>Rochester</td>\n",
       "      <td>NY</td>\n",
       "      <td>US</td>\n",
       "      <td>14612</td>\n",
       "    </tr>\n",
       "    <tr>\n",
       "      <th>3</th>\n",
       "      <td>2022</td>\n",
       "      <td>4</td>\n",
       "      <td>17567120</td>\n",
       "      <td>44562</td>\n",
       "      <td>Utility</td>\n",
       "      <td>SMALL</td>\n",
       "      <td>Erie</td>\n",
       "      <td>PA</td>\n",
       "      <td>US</td>\n",
       "      <td>16505</td>\n",
       "    </tr>\n",
       "    <tr>\n",
       "      <th>4</th>\n",
       "      <td>2022</td>\n",
       "      <td>5</td>\n",
       "      <td>17646721</td>\n",
       "      <td>44562</td>\n",
       "      <td>Utility</td>\n",
       "      <td>MICRO</td>\n",
       "      <td>Athens</td>\n",
       "      <td>OT</td>\n",
       "      <td>GR</td>\n",
       "      <td>11523</td>\n",
       "    </tr>\n",
       "  </tbody>\n",
       "</table>\n",
       "</div>"
      ],
      "text/plain": [
       "   Year  Id      Code   Date     Type  Type2          City State Country  \\\n",
       "0  2022   1  17567110  44562  Utility  SMALL  Spanish Fork    UT      US   \n",
       "1  2022   2  17567111  44562  Utility  MICRO   Beer Yaakov   NaN      IS   \n",
       "2  2022   3  17567114  44562  Utility  SMALL     Rochester    NY      US   \n",
       "3  2022   4  17567120  44562  Utility  SMALL          Erie    PA      US   \n",
       "4  2022   5  17646721  44562  Utility  MICRO        Athens    OT      GR   \n",
       "\n",
       "  Zip Code  \n",
       "0    84660  \n",
       "1  7031442  \n",
       "2    14612  \n",
       "3    16505  \n",
       "4    11523  "
      ]
     },
     "execution_count": 275,
     "metadata": {},
     "output_type": "execute_result"
    }
   ],
   "source": [
    "# Load only the specific sheet\n",
    "df = pd.read_excel(file_path, sheet_name=sheet_name)\n",
    "df.head()"
   ]
  },
  {
   "cell_type": "code",
   "execution_count": 276,
   "metadata": {},
   "outputs": [
    {
     "name": "stderr",
     "output_type": "stream",
     "text": [
      "/var/folders/7h/41kdp80x0s59g14w69dkvvbr0000gn/T/ipykernel_5254/972403615.py:8: SettingWithCopyWarning: \n",
      "A value is trying to be set on a copy of a slice from a DataFrame.\n",
      "Try using .loc[row_indexer,col_indexer] = value instead\n",
      "\n",
      "See the caveats in the documentation: https://pandas.pydata.org/pandas-docs/stable/user_guide/indexing.html#returning-a-view-versus-a-copy\n",
      "  df_cleaned['Id'] = range(1, len(df_cleaned) + 1)\n"
     ]
    },
    {
     "data": {
      "text/html": [
       "<div>\n",
       "<style scoped>\n",
       "    .dataframe tbody tr th:only-of-type {\n",
       "        vertical-align: middle;\n",
       "    }\n",
       "\n",
       "    .dataframe tbody tr th {\n",
       "        vertical-align: top;\n",
       "    }\n",
       "\n",
       "    .dataframe thead th {\n",
       "        text-align: right;\n",
       "    }\n",
       "</style>\n",
       "<table border=\"1\" class=\"dataframe\">\n",
       "  <thead>\n",
       "    <tr style=\"text-align: right;\">\n",
       "      <th></th>\n",
       "      <th>Year</th>\n",
       "      <th>Id</th>\n",
       "      <th>Code</th>\n",
       "      <th>Date</th>\n",
       "      <th>Type</th>\n",
       "      <th>Type2</th>\n",
       "      <th>City</th>\n",
       "      <th>State</th>\n",
       "      <th>Country</th>\n",
       "      <th>Zip Code</th>\n",
       "    </tr>\n",
       "  </thead>\n",
       "  <tbody>\n",
       "    <tr>\n",
       "      <th>0</th>\n",
       "      <td>2022</td>\n",
       "      <td>1</td>\n",
       "      <td>17567110</td>\n",
       "      <td>44562</td>\n",
       "      <td>Utility</td>\n",
       "      <td>SMALL</td>\n",
       "      <td>Spanish Fork</td>\n",
       "      <td>UT</td>\n",
       "      <td>US</td>\n",
       "      <td>84660</td>\n",
       "    </tr>\n",
       "    <tr>\n",
       "      <th>1</th>\n",
       "      <td>2022</td>\n",
       "      <td>2</td>\n",
       "      <td>17567114</td>\n",
       "      <td>44562</td>\n",
       "      <td>Utility</td>\n",
       "      <td>SMALL</td>\n",
       "      <td>Rochester</td>\n",
       "      <td>NY</td>\n",
       "      <td>US</td>\n",
       "      <td>14612</td>\n",
       "    </tr>\n",
       "    <tr>\n",
       "      <th>2</th>\n",
       "      <td>2022</td>\n",
       "      <td>3</td>\n",
       "      <td>17567120</td>\n",
       "      <td>44562</td>\n",
       "      <td>Utility</td>\n",
       "      <td>SMALL</td>\n",
       "      <td>Erie</td>\n",
       "      <td>PA</td>\n",
       "      <td>US</td>\n",
       "      <td>16505</td>\n",
       "    </tr>\n",
       "    <tr>\n",
       "      <th>3</th>\n",
       "      <td>2022</td>\n",
       "      <td>4</td>\n",
       "      <td>17567113</td>\n",
       "      <td>44562</td>\n",
       "      <td>Utility</td>\n",
       "      <td>UNDISCOUNTED</td>\n",
       "      <td>McLean</td>\n",
       "      <td>VA</td>\n",
       "      <td>US</td>\n",
       "      <td>22102</td>\n",
       "    </tr>\n",
       "    <tr>\n",
       "      <th>4</th>\n",
       "      <td>2022</td>\n",
       "      <td>5</td>\n",
       "      <td>17567116</td>\n",
       "      <td>44562</td>\n",
       "      <td>Utility</td>\n",
       "      <td>SMALL</td>\n",
       "      <td>Fort Lauderdale</td>\n",
       "      <td>FL</td>\n",
       "      <td>US</td>\n",
       "      <td>33301</td>\n",
       "    </tr>\n",
       "  </tbody>\n",
       "</table>\n",
       "</div>"
      ],
      "text/plain": [
       "   Year  Id      Code   Date     Type         Type2             City State  \\\n",
       "0  2022   1  17567110  44562  Utility         SMALL     Spanish Fork    UT   \n",
       "1  2022   2  17567114  44562  Utility         SMALL        Rochester    NY   \n",
       "2  2022   3  17567120  44562  Utility         SMALL             Erie    PA   \n",
       "3  2022   4  17567113  44562  Utility  UNDISCOUNTED           McLean    VA   \n",
       "4  2022   5  17567116  44562  Utility         SMALL  Fort Lauderdale    FL   \n",
       "\n",
       "  Country Zip Code  \n",
       "0      US    84660  \n",
       "1      US    14612  \n",
       "2      US    16505  \n",
       "3      US    22102  \n",
       "4      US    33301  "
      ]
     },
     "execution_count": 276,
     "metadata": {},
     "output_type": "execute_result"
    }
   ],
   "source": [
    "# Filter the dataframe to include only rows where 'Country' is 'US'\n",
    "df_cleaned = df[df['Country'] == 'US']\n",
    "\n",
    "# Reset the index of the cleaned dataframe and drop the old index\n",
    "df_cleaned.reset_index(drop=True, inplace=True)\n",
    "\n",
    "# Create a new 'Id' column with a range of values starting from 1 to the length of the cleaned dataframe\n",
    "df_cleaned['Id'] = range(1, len(df_cleaned) + 1)\n",
    "\n",
    "# Display the first few rows of the cleaned dataframe\n",
    "df_cleaned.head()\n"
   ]
  },
  {
   "cell_type": "code",
   "execution_count": 277,
   "metadata": {},
   "outputs": [
    {
     "name": "stdout",
     "output_type": "stream",
     "text": [
      "Year         0\n",
      "Id           0\n",
      "Code         0\n",
      "Date         0\n",
      "Type       346\n",
      "Type2        0\n",
      "City         1\n",
      "State       21\n",
      "Country      0\n",
      "dtype: int64\n"
     ]
    }
   ],
   "source": [
    "null_columns = df_cleaned[['Year', 'Id', 'Code', 'Date', 'Type', 'Type2', 'City', 'State', 'Country']].isnull().sum()\n",
    "print(null_columns)\n"
   ]
  },
  {
   "cell_type": "code",
   "execution_count": 278,
   "metadata": {},
   "outputs": [
    {
     "name": "stdout",
     "output_type": "stream",
     "text": [
      "Unique values in 'Type': ['Utility' 'Provisional' 'Design' 'PCT' nan 'Plant' 'Re-Issue'\n",
      " 'Re-Examination']\n",
      "Count of unique values in 'Type': 8\n",
      "Count of each unique value in 'Type':\n",
      "Type\n",
      "Utility           373224\n",
      "Provisional        36284\n",
      "Design              9801\n",
      "PCT                 6009\n",
      "Plant                855\n",
      "Re-Issue             748\n",
      "Re-Examination       355\n",
      "Name: count, dtype: int64\n"
     ]
    }
   ],
   "source": [
    "unique_values_type = df_cleaned['Type'].unique()\n",
    "count_unique_values_type = len(unique_values_type)\n",
    "\n",
    "print(f\"Unique values in 'Type': {unique_values_type}\")\n",
    "print(f\"Count of unique values in 'Type': {count_unique_values_type}\")\n",
    "type_counts = df_cleaned['Type'].value_counts()\n",
    "print(f\"Count of each unique value in 'Type':\\n{type_counts}\")"
   ]
  },
  {
   "cell_type": "code",
   "execution_count": 279,
   "metadata": {},
   "outputs": [
    {
     "name": "stdout",
     "output_type": "stream",
     "text": [
      "      Year    Id      Code   Date Type         Type2           City State  \\\n",
      "1124  2022  1125  63295985  44564  NaN         SMALL        Atlanta    GA   \n",
      "1257  2022  1258  63361232  44564  NaN         MICRO     Vero Beach    FL   \n",
      "2669  2022  2670  63361546  44565  NaN         MICRO    Huntingtown    MD   \n",
      "4020  2022  4021  63296687  44566  NaN         SMALL         Dublin    OH   \n",
      "4114  2022  4115  63361567  44566  NaN         SMALL      Bethlehem    PA   \n",
      "4123  2022  4124  63361555  44566  NaN         SMALL  Oklahoma City    OK   \n",
      "5584  2022  5585  63297039  44567  NaN         SMALL        Chicago    IL   \n",
      "5760  2022  5761  63361565  44567  NaN         SMALL       Chandler    AZ   \n",
      "7487  2022  7488  63297572  44568  NaN  UNDISCOUNTED      Lexington    MA   \n",
      "7555  2022  7556  63361573  44568  NaN  UNDISCOUNTED       Cranbury    NJ   \n",
      "7597  2022  7598  63297638  44568  NaN         SMALL      SAN DIEGO    CA   \n",
      "7663  2022  7664  63293655  44569  NaN         SMALL   Laguna Beach    CA   \n",
      "9436  2022  9437  63297917  44571  NaN         SMALL   Laguna Beach    CA   \n",
      "9443  2022  9444  63297920  44571  NaN         SMALL   Laguna Beach    CA   \n",
      "9516  2022  9517  63361603  44571  NaN         SMALL    East Haddam    CT   \n",
      "\n",
      "     Country    Zip Code  \n",
      "1124      US       30339  \n",
      "1257      US       32960  \n",
      "2669      US       20639  \n",
      "4020      US       43017  \n",
      "4114      US       18015  \n",
      "4123      US       73150  \n",
      "5584      US  60690-2786  \n",
      "5760      US       85226  \n",
      "7487      US        2420  \n",
      "7555      US        8512  \n",
      "7597      US  92121-2133  \n",
      "7663      US       92651  \n",
      "9436      US       92651  \n",
      "9443      US       92651  \n",
      "9516      US        6423  \n"
     ]
    }
   ],
   "source": [
    "nan_type_rows = df_cleaned[df_cleaned['Type'].isna()].head(15)\n",
    "print(nan_type_rows)"
   ]
  },
  {
   "cell_type": "code",
   "execution_count": 280,
   "metadata": {},
   "outputs": [
    {
     "name": "stdout",
     "output_type": "stream",
     "text": [
      "object\n",
      "object\n",
      "0    84660\n",
      "1    14612\n",
      "2    16505\n",
      "3    22102\n",
      "4    33301\n",
      "Name: Zip Code, dtype: object\n"
     ]
    }
   ],
   "source": [
    "print(df_cleaned['Zip Code'].dtype) \n",
    "\n",
    "# Convert the 'Zip Code' column to a string\n",
    "df_cleaned.iloc[:, df_cleaned.columns.get_loc('Zip Code')] = df_cleaned.iloc[:, df_cleaned.columns.get_loc('Zip Code')].astype(str)\n",
    "print(df_cleaned['Zip Code'].dtype) \n",
    "print(df_cleaned['Zip Code'].head())"
   ]
  },
  {
   "cell_type": "code",
   "execution_count": 281,
   "metadata": {},
   "outputs": [
    {
     "name": "stdout",
     "output_type": "stream",
     "text": [
      "        Year      Id      Code   Date         Type         Type2     City  \\\n",
      "144     2022     145  17567261  44564      Utility  UNDISCOUNTED  Atlanta   \n",
      "165     2022     166  17567281  44564      Utility  UNDISCOUNTED  Atlanta   \n",
      "195     2022     196  17567302  44564      Utility  UNDISCOUNTED  Atlanta   \n",
      "223     2022     224  17567321  44564      Utility  UNDISCOUNTED  Atlanta   \n",
      "234     2022     235  17567360  44564      Utility  UNDISCOUNTED  Atlanta   \n",
      "...      ...     ...       ...    ...          ...           ...      ...   \n",
      "425821  2022  425822  18147732  44924      Utility  UNDISCOUNTED  Atlanta   \n",
      "425880  2022  425881  18147986  44924      Utility  UNDISCOUNTED  Atlanta   \n",
      "426975  2022  426976  18091986  44925      Utility  UNDISCOUNTED  Atlanta   \n",
      "427139  2022  427140  18148539  44925      Utility  UNDISCOUNTED  Atlanta   \n",
      "427531  2022  427532  63477871  44925  Provisional  UNDISCOUNTED  Atlanta   \n",
      "\n",
      "       State Country Zip Code  \n",
      "144       GA      US    30339  \n",
      "165       GA      US    30339  \n",
      "195       GA      US    30339  \n",
      "223       GA      US    30339  \n",
      "234       GA      US    30339  \n",
      "...      ...     ...      ...  \n",
      "425821    GA      US    30339  \n",
      "425880    GA      US    30339  \n",
      "426975    GA      US    30339  \n",
      "427139    GA      US    30339  \n",
      "427531    GA      US    30339  \n",
      "\n",
      "[1845 rows x 10 columns]\n"
     ]
    },
    {
     "name": "stderr",
     "output_type": "stream",
     "text": [
      "/var/folders/7h/41kdp80x0s59g14w69dkvvbr0000gn/T/ipykernel_5254/3864174683.py:2: SettingWithCopyWarning: \n",
      "A value is trying to be set on a copy of a slice from a DataFrame.\n",
      "Try using .loc[row_indexer,col_indexer] = value instead\n",
      "\n",
      "See the caveats in the documentation: https://pandas.pydata.org/pandas-docs/stable/user_guide/indexing.html#returning-a-view-versus-a-copy\n",
      "  df_cleaned['Zip Code'] = df_cleaned['Zip Code'].str.strip()\n"
     ]
    }
   ],
   "source": [
    "# Remove any leading or trailing whitespaces from the 'Zip Code' column\n",
    "df_cleaned['Zip Code'] = df_cleaned['Zip Code'].str.strip()\n",
    "#print(df_cleaned['Zip Code'].head())\n",
    "print(df_cleaned[(df_cleaned['Zip Code'] == '30339') & (df_cleaned['Type2'] == 'UNDISCOUNTED')])\n",
    "\n"
   ]
  },
  {
   "cell_type": "code",
   "execution_count": 282,
   "metadata": {},
   "outputs": [
    {
     "name": "stderr",
     "output_type": "stream",
     "text": [
      "/var/folders/7h/41kdp80x0s59g14w69dkvvbr0000gn/T/ipykernel_5254/2092395816.py:8: SettingWithCopyWarning: \n",
      "A value is trying to be set on a copy of a slice from a DataFrame.\n",
      "Try using .loc[row_indexer,col_indexer] = value instead\n",
      "\n",
      "See the caveats in the documentation: https://pandas.pydata.org/pandas-docs/stable/user_guide/indexing.html#returning-a-view-versus-a-copy\n",
      "  df_cleaned['Type'] = df_cleaned.apply(\n"
     ]
    }
   ],
   "source": [
    "df_cleaned.loc[(df_cleaned['Zip Code'] == '30339') & (df_cleaned['Type'].isnull()), 'Type'] = 'Utility'\n",
    "#print(df_cleaned[(df_cleaned['Zip Code'] == '30339') & (df_cleaned['Type2'] == 'UNDISCOUNTED')])\n",
    "\n",
    "# Create a hashmap (dictionary) with unique Zip Code and Type pairs\n",
    "zip_type_map = df_cleaned.dropna(subset=['Type']).set_index('Zip Code')['Type'].to_dict()\n",
    "\n",
    "# Fill null values in 'Type' column using the hashmap\n",
    "df_cleaned['Type'] = df_cleaned.apply(\n",
    "    lambda row: zip_type_map.get(row['Zip Code'], row['Type']) if pd.isnull(row['Type']) else row['Type'],\n",
    "    axis=1\n",
    ")\n",
    "\n",
    "# Print the rows where 'Zip Code' is '30339' and 'Type2' is 'UNDISCOUNTED'\n",
    "#print(df_cleaned[(df_cleaned['Zip Code'] == '30339') & (df_cleaned['Type2'] == 'UNDISCOUNTED')])"
   ]
  },
  {
   "cell_type": "code",
   "execution_count": 283,
   "metadata": {},
   "outputs": [
    {
     "name": "stdout",
     "output_type": "stream",
     "text": [
      "Year        0\n",
      "Id          0\n",
      "Code        0\n",
      "Date        0\n",
      "Type       31\n",
      "Type2       0\n",
      "City        1\n",
      "State      21\n",
      "Country     0\n",
      "dtype: int64\n"
     ]
    }
   ],
   "source": [
    "null_columns = df_cleaned[['Year', 'Id', 'Code', 'Date', 'Type', 'Type2', 'City', 'State', 'Country']].isnull().sum()\n",
    "print(null_columns)\n",
    "#print(df_cleaned[df_cleaned['Type'].isnull()])\n"
   ]
  },
  {
   "cell_type": "code",
   "execution_count": 284,
   "metadata": {},
   "outputs": [
    {
     "name": "stdout",
     "output_type": "stream",
     "text": [
      "Number of rows removed: 52\n",
      "Total number of null values in the dataframe: 0\n"
     ]
    },
    {
     "name": "stderr",
     "output_type": "stream",
     "text": [
      "/var/folders/7h/41kdp80x0s59g14w69dkvvbr0000gn/T/ipykernel_5254/3477448243.py:2: SettingWithCopyWarning: \n",
      "A value is trying to be set on a copy of a slice from a DataFrame\n",
      "\n",
      "See the caveats in the documentation: https://pandas.pydata.org/pandas-docs/stable/user_guide/indexing.html#returning-a-view-versus-a-copy\n",
      "  df_cleaned.dropna(inplace=True)\n"
     ]
    }
   ],
   "source": [
    "rows_before = len(df_cleaned)\n",
    "df_cleaned.dropna(inplace=True)\n",
    "rows_after = len(df_cleaned)\n",
    "rows_removed = rows_before - rows_after\n",
    "print(f\"Number of rows removed: {rows_removed}\")\n",
    "df_cleaned.reset_index(drop=True, inplace=True)\n",
    "null_sum = df_cleaned.isnull().sum().sum()\n",
    "print(f\"Total number of null values in the dataframe: {null_sum}\")"
   ]
  },
  {
   "cell_type": "code",
   "execution_count": 285,
   "metadata": {},
   "outputs": [
    {
     "name": "stdout",
     "output_type": "stream",
     "text": [
      "Unique values in 'Type2': ['SMALL' 'UNDISCOUNTED' 'MICRO']\n",
      "Total number of rows with ' ' in 'Type2' column: 0\n",
      "Empty DataFrame\n",
      "Columns: [Year, Id, Code, Date, Type, Type2, City, State, Country, Zip Code]\n",
      "Index: []\n"
     ]
    }
   ],
   "source": [
    "unique_values_type2 = df_cleaned['Type2'].unique()\n",
    "print(f\"Unique values in 'Type2': {unique_values_type2}\")\n",
    "total_blank_type2 = df_cleaned[df_cleaned['Type2'] == ' '].shape[0]\n",
    "print(f\"Total number of rows with ' ' in 'Type2' column: {total_blank_type2}\")\n",
    " \n",
    " \n",
    "blank_type2_row = df_cleaned[df_cleaned['Type2'] == ' ']\n",
    "print(blank_type2_row)"
   ]
  },
  {
   "cell_type": "code",
   "execution_count": 286,
   "metadata": {},
   "outputs": [],
   "source": [
    "# Remove rows where 'Type2' column has a value of ' '\n",
    "df_cleaned = df_cleaned[df_cleaned['Type2'] != ' ']\n",
    "\n",
    "# Reset the index of the cleaned dataframe and drop the old index\n",
    "df_cleaned.reset_index(drop=True, inplace=True)\n",
    "\n",
    "\n"
   ]
  },
  {
   "cell_type": "code",
   "execution_count": 287,
   "metadata": {},
   "outputs": [
    {
     "name": "stdout",
     "output_type": "stream",
     "text": [
      "Unique values in 'Type2': ['SMALL' 'UNDISCOUNTED' 'MICRO']\n"
     ]
    }
   ],
   "source": [
    "unique_values_type2 = df_cleaned['Type2'].unique()\n",
    "print(f\"Unique values in 'Type2': {unique_values_type2}\")"
   ]
  },
  {
   "cell_type": "code",
   "execution_count": 288,
   "metadata": {},
   "outputs": [
    {
     "name": "stdout",
     "output_type": "stream",
     "text": [
      "Sample of cleaned zip codes:\n",
      "  Original_Zip Zip Code\n",
      "0        84660    84660\n",
      "1        14612    14612\n",
      "2        16505    16505\n",
      "3        22102    22102\n",
      "4        33301    33301\n",
      "5        94705    94705\n",
      "6        19008    19008\n",
      "7        34756    34756\n",
      "8        12203    12203\n",
      "9        89511    89511\n",
      "\n",
      "Number of valid zip codes: 330126\n",
      "Number of null values in 'Zip Code' column: 0\n"
     ]
    }
   ],
   "source": [
    "# Create a copy of original data\n",
    "df_cleaned['Original_Zip'] = df_cleaned['Zip Code']\n",
    "\n",
    "# Clean zip codes\n",
    "def clean_zip(zip_code):\n",
    "    # Convert to string\n",
    "    zip_str = str(zip_code)\n",
    "    # Remove non-numeric characters\n",
    "    numeric_only = ''.join(filter(str.isdigit, zip_str))\n",
    "    \n",
    "    # Check if length is 4 or 5\n",
    "    if len(numeric_only) == 5:\n",
    "        return numeric_only\n",
    "    elif len(numeric_only) == 4:\n",
    "        return numeric_only\n",
    "    else:\n",
    "        return None\n",
    "\n",
    "# Apply cleaning\n",
    "df_cleaned['Zip Code'] = df_cleaned['Zip Code'].apply(clean_zip)\n",
    "\n",
    "# Remove rows with invalid zip codes if needed\n",
    "df_cleaned = df_cleaned.dropna(subset=['Zip Code'])\n",
    "\n",
    "# Verify results\n",
    "print(\"Sample of cleaned zip codes:\")\n",
    "print(df_cleaned[['Original_Zip', 'Zip Code']].head(10))\n",
    "print(\"\\nNumber of valid zip codes:\", df_cleaned['Zip Code'].notna().sum())\n",
    "# Print the number of null values in the 'Zip Code' column\n",
    "num_null_zip_codes = df_cleaned['Zip Code'].isnull().sum()\n",
    "print(f\"Number of null values in 'Zip Code' column: {num_null_zip_codes}\")"
   ]
  },
  {
   "cell_type": "code",
   "execution_count": 289,
   "metadata": {},
   "outputs": [
    {
     "data": {
      "text/html": [
       "<div>\n",
       "<style scoped>\n",
       "    .dataframe tbody tr th:only-of-type {\n",
       "        vertical-align: middle;\n",
       "    }\n",
       "\n",
       "    .dataframe tbody tr th {\n",
       "        vertical-align: top;\n",
       "    }\n",
       "\n",
       "    .dataframe thead th {\n",
       "        text-align: right;\n",
       "    }\n",
       "</style>\n",
       "<table border=\"1\" class=\"dataframe\">\n",
       "  <thead>\n",
       "    <tr style=\"text-align: right;\">\n",
       "      <th></th>\n",
       "      <th>Year</th>\n",
       "      <th>Id</th>\n",
       "      <th>Code</th>\n",
       "      <th>Date</th>\n",
       "      <th>Type</th>\n",
       "      <th>Type2</th>\n",
       "      <th>City</th>\n",
       "      <th>State</th>\n",
       "      <th>Country</th>\n",
       "      <th>Zip Code</th>\n",
       "      <th>Original_Zip</th>\n",
       "    </tr>\n",
       "  </thead>\n",
       "  <tbody>\n",
       "    <tr>\n",
       "      <th>0</th>\n",
       "      <td>2022</td>\n",
       "      <td>1</td>\n",
       "      <td>17567110</td>\n",
       "      <td>44562</td>\n",
       "      <td>Utility</td>\n",
       "      <td>SMALL</td>\n",
       "      <td>Spanish Fork</td>\n",
       "      <td>UT</td>\n",
       "      <td>US</td>\n",
       "      <td>84660</td>\n",
       "      <td>84660</td>\n",
       "    </tr>\n",
       "    <tr>\n",
       "      <th>1</th>\n",
       "      <td>2022</td>\n",
       "      <td>2</td>\n",
       "      <td>17567114</td>\n",
       "      <td>44562</td>\n",
       "      <td>Utility</td>\n",
       "      <td>SMALL</td>\n",
       "      <td>Rochester</td>\n",
       "      <td>NY</td>\n",
       "      <td>US</td>\n",
       "      <td>14612</td>\n",
       "      <td>14612</td>\n",
       "    </tr>\n",
       "    <tr>\n",
       "      <th>2</th>\n",
       "      <td>2022</td>\n",
       "      <td>3</td>\n",
       "      <td>17567120</td>\n",
       "      <td>44562</td>\n",
       "      <td>Utility</td>\n",
       "      <td>SMALL</td>\n",
       "      <td>Erie</td>\n",
       "      <td>PA</td>\n",
       "      <td>US</td>\n",
       "      <td>16505</td>\n",
       "      <td>16505</td>\n",
       "    </tr>\n",
       "    <tr>\n",
       "      <th>3</th>\n",
       "      <td>2022</td>\n",
       "      <td>4</td>\n",
       "      <td>17567113</td>\n",
       "      <td>44562</td>\n",
       "      <td>Utility</td>\n",
       "      <td>UNDISCOUNTED</td>\n",
       "      <td>McLean</td>\n",
       "      <td>VA</td>\n",
       "      <td>US</td>\n",
       "      <td>22102</td>\n",
       "      <td>22102</td>\n",
       "    </tr>\n",
       "    <tr>\n",
       "      <th>4</th>\n",
       "      <td>2022</td>\n",
       "      <td>5</td>\n",
       "      <td>17567116</td>\n",
       "      <td>44562</td>\n",
       "      <td>Utility</td>\n",
       "      <td>SMALL</td>\n",
       "      <td>Fort Lauderdale</td>\n",
       "      <td>FL</td>\n",
       "      <td>US</td>\n",
       "      <td>33301</td>\n",
       "      <td>33301</td>\n",
       "    </tr>\n",
       "  </tbody>\n",
       "</table>\n",
       "</div>"
      ],
      "text/plain": [
       "   Year  Id      Code   Date     Type         Type2             City State  \\\n",
       "0  2022   1  17567110  44562  Utility         SMALL     Spanish Fork    UT   \n",
       "1  2022   2  17567114  44562  Utility         SMALL        Rochester    NY   \n",
       "2  2022   3  17567120  44562  Utility         SMALL             Erie    PA   \n",
       "3  2022   4  17567113  44562  Utility  UNDISCOUNTED           McLean    VA   \n",
       "4  2022   5  17567116  44562  Utility         SMALL  Fort Lauderdale    FL   \n",
       "\n",
       "  Country Zip Code Original_Zip  \n",
       "0      US    84660        84660  \n",
       "1      US    14612        14612  \n",
       "2      US    16505        16505  \n",
       "3      US    22102        22102  \n",
       "4      US    33301        33301  "
      ]
     },
     "execution_count": 289,
     "metadata": {},
     "output_type": "execute_result"
    }
   ],
   "source": [
    "df_cleaned.reset_index(drop=True, inplace=True)\n",
    "# Create a new 'Id' column with a range of values starting from 1 to the length of the cleaned dataframe\n",
    "df_cleaned['Id'] = range(1, len(df_cleaned) + 1)\n",
    "df_cleaned.head()"
   ]
  },
  {
   "cell_type": "code",
   "execution_count": 290,
   "metadata": {},
   "outputs": [],
   "source": [
    "output_file_path = '/Users/haritshah/Desktop/Edited_Patient_Data2022.xlsx'\n",
    "df_cleaned.to_excel(output_file_path, index=False)"
   ]
  }
 ],
 "metadata": {
  "kernelspec": {
   "display_name": "Python 3",
   "language": "python",
   "name": "python3"
  },
  "language_info": {
   "codemirror_mode": {
    "name": "ipython",
    "version": 3
   },
   "file_extension": ".py",
   "mimetype": "text/x-python",
   "name": "python",
   "nbconvert_exporter": "python",
   "pygments_lexer": "ipython3",
   "version": "3.11.4"
  }
 },
 "nbformat": 4,
 "nbformat_minor": 2
}
